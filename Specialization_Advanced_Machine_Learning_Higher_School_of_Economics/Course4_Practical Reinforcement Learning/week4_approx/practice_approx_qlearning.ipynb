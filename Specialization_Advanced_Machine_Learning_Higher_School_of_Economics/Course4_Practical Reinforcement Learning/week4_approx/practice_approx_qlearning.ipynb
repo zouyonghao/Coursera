{
 "cells": [
  {
   "cell_type": "markdown",
   "metadata": {},
   "source": [
    "# Approximate q-learning\n",
    "\n",
    "In this notebook you will teach a __tensorflow__ neural network to do Q-learning."
   ]
  },
  {
   "cell_type": "markdown",
   "metadata": {},
   "source": [
    "__Frameworks__ - we'll accept this homework in any deep learning framework. This particular notebook was designed for tensorflow, but you will find it easy to adapt it to almost any python-based deep learning framework."
   ]
  },
  {
   "cell_type": "code",
   "execution_count": 1,
   "metadata": {},
   "outputs": [
    {
     "name": "stdout",
     "output_type": "stream",
     "text": [
      "Starting virtual X frame buffer: Xvfb.\n",
      "env: DISPLAY=:1\n"
     ]
    },
    {
     "name": "stderr",
     "output_type": "stream",
     "text": [
      "start-stop-daemon: unable to stat /usr/bin/Xvfb (No such file or directory)\n"
     ]
    }
   ],
   "source": [
    "#XVFB will be launched if you run on a server\n",
    "import os\n",
    "if os.environ.get(\"DISPLAY\") is not str or len(os.environ.get(\"DISPLAY\"))==0:\n",
    "    !bash ../xvfb start\n",
    "    %env DISPLAY=:1"
   ]
  },
  {
   "cell_type": "code",
   "execution_count": 2,
   "metadata": {
    "collapsed": true
   },
   "outputs": [],
   "source": [
    "import gym\n",
    "import numpy as np\n",
    "import pandas as pd\n",
    "import matplotlib.pyplot as plt\n",
    "%matplotlib inline"
   ]
  },
  {
   "cell_type": "code",
   "execution_count": 3,
   "metadata": {
    "scrolled": false
   },
   "outputs": [
    {
     "name": "stdout",
     "output_type": "stream",
     "text": [
      "\u001b[33mWARN: gym.spaces.Box autodetected dtype as <class 'numpy.float32'>. Please provide explicit dtype.\u001b[0m\n"
     ]
    },
    {
     "data": {
      "text/plain": [
       "<matplotlib.image.AxesImage at 0x1acd7fc25c0>"
      ]
     },
     "execution_count": 3,
     "metadata": {},
     "output_type": "execute_result"
    },
    {
     "data": {
      "image/png": "[encoded data removed]",
      "text/plain": [
       "<matplotlib.figure.Figure at 0x1acd0bde3c8>"
      ]
     },
     "metadata": {},
     "output_type": "display_data"
    }
   ],
   "source": [
    "env = gym.make(\"CartPole-v0\").env\n",
    "env.reset()\n",
    "n_actions = env.action_space.n\n",
    "state_dim = env.observation_space.shape\n",
    "\n",
    "plt.imshow(env.render(\"rgb_array\"))"
   ]
  },
  {
   "cell_type": "markdown",
   "metadata": {},
   "source": [
    "# Approximate (deep) Q-learning: building the network\n",
    "\n",
    "To train a neural network policy one must have a neural network policy. Let's build it.\n",
    "\n",
    "\n",
    "Since we're working with a pre-extracted features (cart positions, angles and velocities), we don't need a complicated network yet. In fact, let's build something like this for starters:\n",
    "\n",
    "![img](https://s14.postimg.org/uzay2q5rl/qlearning_scheme.png)\n",
    "\n",
    "For your first run, please only use linear layers (L.Dense) and activations. Stuff like batch normalization or dropout may ruin everything if used haphazardly. \n",
    "\n",
    "Also please avoid using nonlinearities like sigmoid & tanh: agent's observations are not normalized so sigmoids may become saturated from init.\n",
    "\n",
    "Ideally you should start small with maybe 1-2 hidden layers with < 200 neurons and then increase network size if agent doesn't beat the target score."
   ]
  },
  {
   "cell_type": "code",
   "execution_count": 4,
   "metadata": {},
   "outputs": [
    {
     "name": "stderr",
     "output_type": "stream",
     "text": [
      "D:\\Anaconda3\\lib\\site-packages\\h5py\\__init__.py:34: FutureWarning: Conversion of the second argument of issubdtype from `float` to `np.floating` is deprecated. In future, it will be treated as `np.float64 == np.dtype(float).type`.\n",
      "  from ._conv import register_converters as _register_converters\n",
      "Using TensorFlow backend.\n"
     ]
    }
   ],
   "source": [
    "import tensorflow as tf\n",
    "import keras\n",
    "import keras.layers as L\n",
    "tf.reset_default_graph()\n",
    "sess = tf.InteractiveSession()\n",
    "keras.backend.set_session(sess)"
   ]
  },
  {
   "cell_type": "code",
   "execution_count": 5,
   "metadata": {
    "collapsed": true
   },
   "outputs": [],
   "source": [
    "network = keras.models.Sequential()\n",
    "network.add(L.InputLayer(state_dim))\n",
    "\n",
    "# let's create a network for approximate q-learning following guidelines above\n",
    "#<YOUR CODE: stack more layers!!!1 >\n",
    "network.add(L.Dense(32,activation=\"relu\"))\n",
    "#network.add(L.Dense(4,activation=None))\n",
    "#network.add(L.Dense(4))\n",
    "network.add(L.Dense(n_actions))"
   ]
  },
  {
   "cell_type": "code",
   "execution_count": 6,
   "metadata": {},
   "outputs": [],
   "source": [
    "import random"
   ]
  },
  {
   "cell_type": "code",
   "execution_count": 7,
   "metadata": {
    "collapsed": true
   },
   "outputs": [],
   "source": [
    "def get_action(state, epsilon=0):\n",
    "    \"\"\"\n",
    "    sample actions with epsilon-greedy policy\n",
    "    recap: with p = epsilon pick random action, else pick action with highest Q(s,a)\n",
    "    \"\"\"\n",
    "    \n",
    "    q_values = network.predict(state[None])[0]\n",
    "    \n",
    "    ###YOUR CODE\n",
    "    if random.random() < epsilon:\n",
    "        return random.choice([0,1])\n",
    "    else:\n",
    "        return np.argmax(q_values)\n",
    "\n",
    "    #return <epsilon-greedily selected action>\n"
   ]
  },
  {
   "cell_type": "code",
   "execution_count": 8,
   "metadata": {},
   "outputs": [
    {
     "name": "stdout",
     "output_type": "stream",
     "text": [
      "e=0.0 tests passed\n",
      "e=0.1 tests passed\n",
      "e=0.5 tests passed\n",
      "e=1.0 tests passed\n"
     ]
    }
   ],
   "source": [
    "assert network.output_shape == (None, n_actions), \"please make sure your model maps state s -> [Q(s,a0), ..., Q(s, a_last)]\"\n",
    "assert network.layers[-1].activation == keras.activations.linear, \"please make sure you predict q-values without nonlinearity\"\n",
    "\n",
    "# test epsilon-greedy exploration\n",
    "s = env.reset()\n",
    "assert np.shape(get_action(s)) == (), \"please return just one action (integer)\"\n",
    "for eps in [0., 0.1, 0.5, 1.0]:\n",
    "    state_frequencies = np.bincount([get_action(s, epsilon=eps) for i in range(10000)], minlength=n_actions)\n",
    "    best_action = state_frequencies.argmax()\n",
    "    assert abs(state_frequencies[best_action] - 10000 * (1 - eps + eps / n_actions)) < 200\n",
    "    for other_action in range(n_actions):\n",
    "        if other_action != best_action:\n",
    "            assert abs(state_frequencies[other_action] - 10000 * (eps / n_actions)) < 200\n",
    "    print('e=%.1f tests passed'%eps)"
   ]
  },
  {
   "cell_type": "markdown",
   "metadata": {},
   "source": [
    "### Q-learning via gradient descent\n",
    "\n",
    "We shall now train our agent's Q-function by minimizing the TD loss:\n",
    "$$ L = { 1 \\over N} \\sum_i (Q_{\\theta}(s,a) - [r(s,a) + \\gamma \\cdot max_{a'} Q_{-}(s', a')]) ^2 $$\n",
    "\n",
    "\n",
    "Where\n",
    "* $s, a, r, s'$ are current state, action, reward and next state respectively\n",
    "* $\\gamma$ is a discount factor defined two cells above.\n",
    "\n",
    "The tricky part is with  $Q_{-}(s',a')$. From an engineering standpoint, it's the same as $Q_{\\theta}$ - the output of your neural network policy. However, when doing gradient descent, __we won't propagate gradients through it__ to make training more stable (see lectures).\n",
    "\n",
    "To do so, we shall use `tf.stop_gradient` function which basically says \"consider this thing constant when doingbackprop\"."
   ]
  },
  {
   "cell_type": "code",
   "execution_count": 9,
   "metadata": {
    "collapsed": true
   },
   "outputs": [],
   "source": [
    "# Create placeholders for the <s, a, r, s'> tuple and a special indicator for game end (is_done = True)\n",
    "states_ph = tf.placeholder('float32', shape=(None,) + state_dim)\n",
    "actions_ph = tf.placeholder('int32', shape=[None])\n",
    "rewards_ph = tf.placeholder('float32', shape=[None])\n",
    "next_states_ph = tf.placeholder('float32', shape=(None,) + state_dim)\n",
    "is_done_ph = tf.placeholder('bool', shape=[None])"
   ]
  },
  {
   "cell_type": "code",
   "execution_count": 10,
   "metadata": {
    "collapsed": true
   },
   "outputs": [],
   "source": [
    "#get q-values for all actions in current states\n",
    "predicted_qvalues = network(states_ph)\n",
    "\n",
    "#select q-values for chosen actions\n",
    "predicted_qvalues_for_actions = tf.reduce_sum(predicted_qvalues * tf.one_hot(actions_ph, n_actions), axis=1)"
   ]
  },
  {
   "cell_type": "code",
   "execution_count": 11,
   "metadata": {},
   "outputs": [],
   "source": [
    "gamma = 0.99\n",
    "\n",
    "# compute q-values for all actions in next states\n",
    "predicted_next_qvalues = network(next_states_ph)#<YOUR CODE - apply network to get q-values for next_states_ph>\n",
    "\n",
    "# compute V*(next_states) using predicted next q-values\n",
    "next_state_values = tf.reduce_max(predicted_next_qvalues,axis=1)#<YOUR CODE>\n",
    "\n",
    "# compute \"target q-values\" for loss - it's what's inside square parentheses in the above formula.\n",
    "target_qvalues_for_actions = rewards_ph + gamma * next_state_values\n",
    "\n",
    "# at the last state we shall use simplified formula: Q(s,a) = r(s,a) since s' doesn't exist\n",
    "target_qvalues_for_actions = tf.where(is_done_ph, rewards_ph, target_qvalues_for_actions)"
   ]
  },
  {
   "cell_type": "code",
   "execution_count": 12,
   "metadata": {
    "collapsed": true
   },
   "outputs": [],
   "source": [
    "#mean squared error loss to minimize\n",
    "loss = (predicted_qvalues_for_actions - tf.stop_gradient(target_qvalues_for_actions)) ** 2\n",
    "loss = tf.reduce_mean(loss)\n",
    "\n",
    "# training function that resembles agent.update(state, action, reward, next_state) from tabular agent\n",
    "train_step = tf.train.AdamOptimizer(1e-4).minimize(loss)"
   ]
  },
  {
   "cell_type": "code",
   "execution_count": 13,
   "metadata": {},
   "outputs": [],
   "source": [
    "assert tf.gradients(loss, [predicted_qvalues_for_actions])[0] is not None, \"make sure you update q-values for chosen actions and not just all actions\"\n",
    "assert tf.gradients(loss, [predicted_next_qvalues])[0] is None, \"make sure you don't propagate gradient w.r.t. Q_(s',a')\"\n",
    "assert predicted_next_qvalues.shape.ndims == 2, \"make sure you predicted q-values for all actions in next state\"\n",
    "assert next_state_values.shape.ndims == 1, \"make sure you computed V(s') as maximum over just the actions axis and not all axes\"\n",
    "assert target_qvalues_for_actions.shape.ndims == 1, \"there's something wrong with target q-values, they must be a vector\""
   ]
  },
  {
   "cell_type": "markdown",
   "metadata": {},
   "source": [
    "### Playing the game"
   ]
  },
  {
   "cell_type": "code",
   "execution_count": 14,
   "metadata": {
    "collapsed": true
   },
   "outputs": [],
   "source": [
    "def generate_session(t_max=1000, epsilon=0, train=False):\n",
    "    \"\"\"play env with approximate q-learning agent and train it at the same time\"\"\"\n",
    "    total_reward = 0\n",
    "    s = env.reset()\n",
    "    \n",
    "    for t in range(t_max):\n",
    "        a = get_action(s, epsilon=epsilon)       \n",
    "        next_s, r, done, _ = env.step(a)\n",
    "        \n",
    "        if train:\n",
    "            sess.run(train_step,{\n",
    "                states_ph: [s], actions_ph: [a], rewards_ph: [r], \n",
    "                next_states_ph: [next_s], is_done_ph: [done]\n",
    "            })\n",
    "\n",
    "        total_reward += r\n",
    "        s = next_s\n",
    "        if done: break\n",
    "            \n",
    "    return total_reward"
   ]
  },
  {
   "cell_type": "code",
   "execution_count": 15,
   "metadata": {
    "collapsed": true
   },
   "outputs": [],
   "source": [
    "epsilon = 0.5"
   ]
  },
  {
   "cell_type": "code",
   "execution_count": 16,
   "metadata": {
    "scrolled": true
   },
   "outputs": [
    {
     "name": "stdout",
     "output_type": "stream",
     "text": [
      "epoch #0\tmean reward = 13.720\tepsilon = 0.500\n",
      "epoch #1\tmean reward = 13.450\tepsilon = 0.495\n",
      "epoch #2\tmean reward = 13.520\tepsilon = 0.490\n",
      "epoch #3\tmean reward = 13.710\tepsilon = 0.485\n",
      "epoch #4\tmean reward = 13.300\tepsilon = 0.480\n",
      "epoch #5\tmean reward = 13.780\tepsilon = 0.475\n",
      "epoch #6\tmean reward = 13.660\tepsilon = 0.471\n",
      "epoch #7\tmean reward = 13.560\tepsilon = 0.466\n",
      "epoch #8\tmean reward = 13.490\tepsilon = 0.461\n",
      "epoch #9\tmean reward = 12.320\tepsilon = 0.457\n",
      "epoch #10\tmean reward = 13.600\tepsilon = 0.452\n",
      "epoch #11\tmean reward = 13.650\tepsilon = 0.448\n",
      "epoch #12\tmean reward = 12.820\tepsilon = 0.443\n",
      "epoch #13\tmean reward = 12.830\tepsilon = 0.439\n",
      "epoch #14\tmean reward = 12.000\tepsilon = 0.434\n",
      "epoch #15\tmean reward = 12.990\tepsilon = 0.430\n",
      "epoch #16\tmean reward = 12.710\tepsilon = 0.426\n",
      "epoch #17\tmean reward = 13.110\tepsilon = 0.421\n",
      "epoch #18\tmean reward = 12.730\tepsilon = 0.417\n",
      "epoch #19\tmean reward = 13.070\tepsilon = 0.413\n",
      "epoch #20\tmean reward = 14.720\tepsilon = 0.409\n",
      "epoch #21\tmean reward = 14.930\tepsilon = 0.405\n",
      "epoch #22\tmean reward = 16.440\tepsilon = 0.401\n",
      "epoch #23\tmean reward = 18.700\tepsilon = 0.397\n",
      "epoch #24\tmean reward = 19.450\tepsilon = 0.393\n",
      "epoch #25\tmean reward = 19.030\tepsilon = 0.389\n",
      "epoch #26\tmean reward = 18.730\tepsilon = 0.385\n",
      "epoch #27\tmean reward = 20.820\tepsilon = 0.381\n",
      "epoch #28\tmean reward = 17.240\tepsilon = 0.377\n",
      "epoch #29\tmean reward = 16.330\tepsilon = 0.374\n",
      "epoch #30\tmean reward = 18.450\tepsilon = 0.370\n",
      "epoch #31\tmean reward = 30.070\tepsilon = 0.366\n",
      "epoch #32\tmean reward = 27.570\tepsilon = 0.362\n",
      "epoch #33\tmean reward = 23.540\tepsilon = 0.359\n",
      "epoch #34\tmean reward = 18.380\tepsilon = 0.355\n",
      "epoch #35\tmean reward = 23.370\tepsilon = 0.352\n",
      "epoch #36\tmean reward = 44.440\tepsilon = 0.348\n",
      "epoch #37\tmean reward = 41.800\tepsilon = 0.345\n",
      "epoch #38\tmean reward = 20.380\tepsilon = 0.341\n",
      "epoch #39\tmean reward = 19.590\tepsilon = 0.338\n",
      "epoch #40\tmean reward = 21.770\tepsilon = 0.334\n",
      "epoch #41\tmean reward = 30.720\tepsilon = 0.331\n",
      "epoch #42\tmean reward = 13.660\tepsilon = 0.328\n",
      "epoch #43\tmean reward = 12.780\tepsilon = 0.325\n",
      "epoch #44\tmean reward = 24.950\tepsilon = 0.321\n",
      "epoch #45\tmean reward = 18.850\tepsilon = 0.318\n",
      "epoch #46\tmean reward = 14.330\tepsilon = 0.315\n",
      "epoch #47\tmean reward = 13.390\tepsilon = 0.312\n",
      "epoch #48\tmean reward = 14.370\tepsilon = 0.309\n",
      "epoch #49\tmean reward = 18.960\tepsilon = 0.306\n",
      "epoch #50\tmean reward = 24.290\tepsilon = 0.303\n",
      "epoch #51\tmean reward = 13.020\tepsilon = 0.299\n",
      "epoch #52\tmean reward = 14.190\tepsilon = 0.296\n",
      "epoch #53\tmean reward = 26.320\tepsilon = 0.294\n",
      "epoch #54\tmean reward = 15.200\tepsilon = 0.291\n",
      "epoch #55\tmean reward = 12.590\tepsilon = 0.288\n",
      "epoch #56\tmean reward = 12.920\tepsilon = 0.285\n",
      "epoch #57\tmean reward = 14.290\tepsilon = 0.282\n",
      "epoch #58\tmean reward = 27.290\tepsilon = 0.279\n",
      "epoch #59\tmean reward = 13.100\tepsilon = 0.276\n",
      "epoch #60\tmean reward = 11.340\tepsilon = 0.274\n",
      "epoch #61\tmean reward = 23.120\tepsilon = 0.271\n",
      "epoch #62\tmean reward = 27.370\tepsilon = 0.268\n",
      "epoch #63\tmean reward = 20.890\tepsilon = 0.265\n",
      "epoch #64\tmean reward = 21.090\tepsilon = 0.263\n",
      "epoch #65\tmean reward = 30.000\tepsilon = 0.260\n",
      "epoch #66\tmean reward = 49.550\tepsilon = 0.258\n",
      "epoch #67\tmean reward = 30.640\tepsilon = 0.255\n",
      "epoch #68\tmean reward = 24.130\tepsilon = 0.252\n",
      "epoch #69\tmean reward = 27.180\tepsilon = 0.250\n",
      "epoch #70\tmean reward = 23.280\tepsilon = 0.247\n",
      "epoch #71\tmean reward = 30.680\tepsilon = 0.245\n",
      "epoch #72\tmean reward = 35.500\tepsilon = 0.242\n",
      "epoch #73\tmean reward = 20.290\tepsilon = 0.240\n",
      "epoch #74\tmean reward = 35.350\tepsilon = 0.238\n",
      "epoch #75\tmean reward = 44.780\tepsilon = 0.235\n",
      "epoch #76\tmean reward = 30.400\tepsilon = 0.233\n",
      "epoch #77\tmean reward = 30.650\tepsilon = 0.231\n",
      "epoch #78\tmean reward = 24.710\tepsilon = 0.228\n",
      "epoch #79\tmean reward = 49.420\tepsilon = 0.226\n",
      "epoch #80\tmean reward = 35.630\tepsilon = 0.224\n",
      "epoch #81\tmean reward = 34.500\tepsilon = 0.222\n",
      "epoch #82\tmean reward = 34.210\tepsilon = 0.219\n",
      "epoch #83\tmean reward = 34.420\tepsilon = 0.217\n",
      "epoch #84\tmean reward = 50.450\tepsilon = 0.215\n",
      "epoch #85\tmean reward = 43.940\tepsilon = 0.213\n",
      "epoch #86\tmean reward = 80.140\tepsilon = 0.211\n",
      "epoch #87\tmean reward = 48.170\tepsilon = 0.209\n",
      "epoch #88\tmean reward = 53.800\tepsilon = 0.206\n",
      "epoch #89\tmean reward = 54.250\tepsilon = 0.204\n",
      "epoch #90\tmean reward = 57.950\tepsilon = 0.202\n",
      "epoch #91\tmean reward = 34.210\tepsilon = 0.200\n",
      "epoch #92\tmean reward = 65.950\tepsilon = 0.198\n",
      "epoch #93\tmean reward = 59.230\tepsilon = 0.196\n",
      "epoch #94\tmean reward = 10.670\tepsilon = 0.194\n",
      "epoch #95\tmean reward = 10.470\tepsilon = 0.192\n",
      "epoch #96\tmean reward = 10.630\tepsilon = 0.191\n",
      "epoch #97\tmean reward = 10.690\tepsilon = 0.189\n",
      "epoch #98\tmean reward = 18.280\tepsilon = 0.187\n",
      "epoch #99\tmean reward = 10.930\tepsilon = 0.185\n",
      "epoch #100\tmean reward = 11.090\tepsilon = 0.183\n",
      "epoch #101\tmean reward = 12.590\tepsilon = 0.181\n",
      "epoch #102\tmean reward = 29.560\tepsilon = 0.179\n",
      "epoch #103\tmean reward = 14.190\tepsilon = 0.178\n",
      "epoch #104\tmean reward = 49.290\tepsilon = 0.176\n",
      "epoch #105\tmean reward = 54.670\tepsilon = 0.174\n",
      "epoch #106\tmean reward = 54.180\tepsilon = 0.172\n",
      "epoch #107\tmean reward = 75.150\tepsilon = 0.171\n",
      "epoch #108\tmean reward = 53.090\tepsilon = 0.169\n",
      "epoch #109\tmean reward = 10.340\tepsilon = 0.167\n",
      "epoch #110\tmean reward = 9.980\tepsilon = 0.166\n",
      "epoch #111\tmean reward = 24.580\tepsilon = 0.164\n",
      "epoch #112\tmean reward = 12.230\tepsilon = 0.162\n",
      "epoch #113\tmean reward = 13.430\tepsilon = 0.161\n",
      "epoch #114\tmean reward = 29.870\tepsilon = 0.159\n",
      "epoch #115\tmean reward = 68.840\tepsilon = 0.157\n",
      "epoch #116\tmean reward = 77.310\tepsilon = 0.156\n",
      "epoch #117\tmean reward = 81.850\tepsilon = 0.154\n",
      "epoch #118\tmean reward = 101.490\tepsilon = 0.153\n",
      "epoch #119\tmean reward = 129.070\tepsilon = 0.151\n",
      "epoch #120\tmean reward = 10.150\tepsilon = 0.150\n",
      "epoch #121\tmean reward = 10.250\tepsilon = 0.148\n",
      "epoch #122\tmean reward = 39.350\tepsilon = 0.147\n",
      "epoch #123\tmean reward = 14.630\tepsilon = 0.145\n",
      "epoch #124\tmean reward = 38.640\tepsilon = 0.144\n",
      "epoch #125\tmean reward = 163.570\tepsilon = 0.142\n",
      "epoch #126\tmean reward = 235.970\tepsilon = 0.141\n",
      "epoch #127\tmean reward = 306.830\tepsilon = 0.140\n",
      "epoch #128\tmean reward = 319.180\tepsilon = 0.138\n",
      "epoch #129\tmean reward = 348.460\tepsilon = 0.137\n",
      "epoch #130\tmean reward = 418.270\tepsilon = 0.135\n",
      "epoch #131\tmean reward = 178.340\tepsilon = 0.134\n",
      "epoch #132\tmean reward = 10.060\tepsilon = 0.133\n",
      "epoch #133\tmean reward = 10.160\tepsilon = 0.131\n",
      "epoch #134\tmean reward = 11.010\tepsilon = 0.130\n",
      "epoch #135\tmean reward = 46.820\tepsilon = 0.129\n",
      "epoch #136\tmean reward = 13.410\tepsilon = 0.127\n",
      "epoch #137\tmean reward = 42.040\tepsilon = 0.126\n",
      "epoch #138\tmean reward = 234.630\tepsilon = 0.125\n",
      "epoch #139\tmean reward = 254.780\tepsilon = 0.124\n",
      "epoch #140\tmean reward = 339.860\tepsilon = 0.122\n",
      "epoch #141\tmean reward = 116.730\tepsilon = 0.121\n",
      "epoch #142\tmean reward = 301.430\tepsilon = 0.120\n",
      "epoch #143\tmean reward = 161.570\tepsilon = 0.119\n",
      "epoch #144\tmean reward = 246.260\tepsilon = 0.118\n",
      "epoch #145\tmean reward = 229.790\tepsilon = 0.116\n",
      "epoch #146\tmean reward = 324.270\tepsilon = 0.115\n",
      "epoch #147\tmean reward = 18.180\tepsilon = 0.114\n",
      "epoch #148\tmean reward = 31.930\tepsilon = 0.113\n",
      "epoch #149\tmean reward = 177.710\tepsilon = 0.112\n",
      "epoch #150\tmean reward = 310.220\tepsilon = 0.111\n",
      "epoch #151\tmean reward = 355.400\tepsilon = 0.110\n",
      "epoch #152\tmean reward = 188.780\tepsilon = 0.109\n",
      "epoch #153\tmean reward = 55.350\tepsilon = 0.107\n",
      "epoch #154\tmean reward = 227.420\tepsilon = 0.106\n",
      "epoch #155\tmean reward = 373.630\tepsilon = 0.105\n",
      "epoch #156\tmean reward = 301.290\tepsilon = 0.104\n",
      "epoch #157\tmean reward = 180.800\tepsilon = 0.103\n",
      "epoch #158\tmean reward = 277.060\tepsilon = 0.102\n",
      "epoch #159\tmean reward = 353.780\tepsilon = 0.101\n",
      "epoch #160\tmean reward = 369.980\tepsilon = 0.100\n",
      "epoch #161\tmean reward = 322.770\tepsilon = 0.099\n",
      "epoch #162\tmean reward = 412.200\tepsilon = 0.098\n",
      "epoch #163\tmean reward = 405.850\tepsilon = 0.097\n",
      "epoch #164\tmean reward = 359.920\tepsilon = 0.096\n",
      "epoch #165\tmean reward = 301.540\tepsilon = 0.095\n",
      "epoch #166\tmean reward = 418.720\tepsilon = 0.094\n",
      "epoch #167\tmean reward = 383.380\tepsilon = 0.093\n",
      "epoch #168\tmean reward = 397.130\tepsilon = 0.092\n",
      "You Win!\n"
     ]
    }
   ],
   "source": [
    "\n",
    "count  = 0\n",
    "for i in range(1000):\n",
    "    session_rewards = [generate_session(epsilon=epsilon, train=True) for _ in range(100)]\n",
    "    print(\"epoch #{}\\tmean reward = {:.3f}\\tepsilon = {:.3f}\".format(i, np.mean(session_rewards), epsilon))\n",
    "    \n",
    "    epsilon *= 0.99\n",
    "    assert epsilon >= 1e-4, \"Make sure epsilon is always nonzero during training\"\n",
    "    \n",
    "    if np.mean(session_rewards) < 200 and epsilon < 0.01:\n",
    "        epsilon = 0.1\n",
    "    \n",
    "    if np.mean(session_rewards) > 300:\n",
    "        count += 1\n",
    "    else:\n",
    "        count = 0 \n",
    "    if count >=10:\n",
    "        print (\"You Win!\")\n",
    "        break"
   ]
  },
  {
   "cell_type": "markdown",
   "metadata": {},
   "source": [
    "### How to interpret results\n",
    "\n",
    "\n",
    "Welcome to the f.. world of deep f...n reinforcement learning. Don't expect agent's reward to smoothly go up. Hope for it to go increase eventually. If it deems you worthy.\n",
    "\n",
    "Seriously though,\n",
    "* __ mean reward__ is the average reward per game. For a correct implementation it may stay low for some 10 epochs, then start growing while oscilating insanely and converges by ~50-100 steps depending on the network architecture. \n",
    "* If it never reaches target score by the end of for loop, try increasing the number of hidden neurons or look at the epsilon.\n",
    "* __ epsilon__ - agent's willingness to explore. If you see that agent's already at < 0.01 epsilon before it's is at least 200, just reset it back to 0.1 - 0.5."
   ]
  },
  {
   "cell_type": "markdown",
   "metadata": {},
   "source": [
    "### Record videos\n",
    "\n",
    "As usual, we now use `gym.wrappers.Monitor` to record a video of our agent playing the game. Unlike our previous attempts with state binarization, this time we expect our agent to act ~~(or fail)~~ more smoothly since there's no more binarization error at play.\n",
    "\n",
    "As you already did with tabular q-learning, we set epsilon=0 for final evaluation to prevent agent from exploring himself to death."
   ]
  },
  {
   "cell_type": "code",
   "execution_count": null,
   "metadata": {
    "collapsed": true
   },
   "outputs": [],
   "source": [
    "#record sessions\n",
    "import gym.wrappers\n",
    "env = gym.wrappers.Monitor(gym.make(\"CartPole-v0\"),directory=\"videos\",force=True)\n",
    "sessions = [generate_session(epsilon=0, train=False) for _ in range(100)]\n",
    "env.close()\n"
   ]
  },
  {
   "cell_type": "code",
   "execution_count": null,
   "metadata": {
    "collapsed": true
   },
   "outputs": [],
   "source": [
    "#show video\n",
    "from IPython.display import HTML\n",
    "import os\n",
    "\n",
    "video_names = list(filter(lambda s:s.endswith(\".mp4\"),os.listdir(\"./videos/\")))\n",
    "\n",
    "HTML(\"\"\"\n",
    "<video width=\"640\" height=\"480\" controls>\n",
    "  <source src=\"{}\" type=\"video/mp4\">\n",
    "</video>\n",
    "\"\"\".format(\"./videos/\"+video_names[-1])) #this may or may not be _last_ video. Try other indices"
   ]
  },
  {
   "cell_type": "markdown",
   "metadata": {},
   "source": [
    "---"
   ]
  },
  {
   "cell_type": "markdown",
   "metadata": {
    "collapsed": true
   },
   "source": [
    "### Submit to coursera"
   ]
  },
  {
   "cell_type": "code",
   "execution_count": 23,
   "metadata": {},
   "outputs": [
    {
     "name": "stdout",
     "output_type": "stream",
     "text": [
      "301.0\n",
      "Submitted to Coursera platform. See results on assignment page!\n"
     ]
    }
   ],
   "source": [
    "from submit import submit_cartpole\n",
    "submit_cartpole(generate_session, <EMAIL>, <TOKEN>)"
   ]
  },
  {
   "cell_type": "code",
   "execution_count": null,
   "metadata": {
    "collapsed": true
   },
   "outputs": [],
   "source": []
  }
 ],
 "metadata": {
  "anaconda-cloud": {},
  "kernelspec": {
   "display_name": "Python 3",
   "language": "python",
   "name": "python3"
  },
  "language_info": {
   "codemirror_mode": {
    "name": "ipython",
    "version": 3
   },
   "file_extension": ".py",
   "mimetype": "text/x-python",
   "name": "python",
   "nbconvert_exporter": "python",
   "pygments_lexer": "ipython3",
   "version": "3.6.3"
  }
 },
 "nbformat": 4,
 "nbformat_minor": 1
}
